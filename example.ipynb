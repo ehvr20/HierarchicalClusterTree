{
 "cells": [
  {
   "cell_type": "code",
   "execution_count": 1,
   "metadata": {},
   "outputs": [],
   "source": [
    "import numpy as np\n",
    "import pandas as pd\n",
    "from HierarchicalClusterTree import labelmat_to_tree, tree_to_labelmat, ClusterTreeNode, prune_tree"
   ]
  },
  {
   "cell_type": "code",
   "execution_count": 2,
   "metadata": {},
   "outputs": [
    {
     "data": {
      "text/plain": [
       "array([['A', 'A1', 'A1.1'],\n",
       "       ['A', 'A2', 'A2.1'],\n",
       "       ['A', 'A2', 'A2.2'],\n",
       "       ['B', 'B1', 'B1.1'],\n",
       "       ['B', 'B1', 'B1.2'],\n",
       "       ['B', 'B2', 'B2.1'],\n",
       "       ['C', 'C1', 'C1.1'],\n",
       "       ['C', 'C2', 'C1.2']], dtype=object)"
      ]
     },
     "execution_count": 2,
     "metadata": {},
     "output_type": "execute_result"
    }
   ],
   "source": [
    "# Example data for label matrix and embedding\n",
    "# Simulated data for demonstration\n",
    "np.random.seed(42)\n",
    "embedding = np.random.rand(8, 50)  # 100 samples, 50-dimensional embedding space\n",
    "\n",
    "# Example label matrix with hierarchical clustering labels\n",
    "labelmat = pd.DataFrame({\n",
    "    'Level 1': ['A', 'A', 'A', 'B', 'B', 'B', 'C', 'C'],  # Main clusters\n",
    "    'Level 2': ['A1', 'A2', 'A2', 'B1', 'B1', 'B2', 'C1', 'C2'],  # Sub-clusters\n",
    "    'Level 3': ['A1.1', 'A2.1', 'A2.2', 'B1.1', 'B1.2', 'B2.1', 'C1.1', 'C1.2']  # Detailed sub-clusters\n",
    "})\n",
    "labelmat = labelmat.values\n",
    "\n",
    "labelmat"
   ]
  },
  {
   "cell_type": "code",
   "execution_count": 3,
   "metadata": {},
   "outputs": [
    {
     "name": "stdout",
     "output_type": "stream",
     "text": [
      "Converting label matrix to cluster tree...\n",
      "ClusterTreeNode(name='root', level=0, num_members=8, parent='None', children=[A, B, C])\n"
     ]
    }
   ],
   "source": [
    "# Convert the label matrix to a tree\n",
    "print(\"Converting label matrix to cluster tree...\")\n",
    "cluster_tree = labelmat_to_tree(labelmat, embedding=embedding)\n",
    "\n",
    "# Root node of the tree is returned\n",
    "print(cluster_tree)"
   ]
  },
  {
   "cell_type": "code",
   "execution_count": 4,
   "metadata": {},
   "outputs": [
    {
     "name": "stdout",
     "output_type": "stream",
     "text": [
      "Pruning cluster tree based on provided conditions...\n",
      "Merging A and B\n",
      "Merging B1 and A2\n",
      "Merging B1.2 and B1.1\n",
      "Merging C2 and C1\n",
      "Merging C1.1 and C1.2\n"
     ]
    }
   ],
   "source": [
    "# Define a function to compare two clusters and return a bool. True = keep, False = merge\n",
    "def check_func(clusterA: ClusterTreeNode, clusterB: ClusterTreeNode) -> bool:\n",
    "    \n",
    "    # Example check: if clusterB has less members than clusterA then merge them\n",
    "    is_valid = len(clusterA.members) > len(clusterB.members)\n",
    "    \n",
    "    if not is_valid:\n",
    "        print(f'Merging {clusterA.name} and {clusterB.name}')\n",
    "    \n",
    "    return is_valid\n",
    "\n",
    "print(\"Pruning cluster tree based on provided conditions...\")\n",
    "prune_tree(cluster_tree, check_func)"
   ]
  },
  {
   "cell_type": "code",
   "execution_count": 5,
   "metadata": {},
   "outputs": [
    {
     "name": "stdout",
     "output_type": "stream",
     "text": [
      "Converting cluster tree back to label matrix...\n"
     ]
    },
    {
     "data": {
      "text/plain": [
       "array([['root', 'A_B', 'A1', 'A1.1'],\n",
       "       ['root', 'A_B', 'B1_A2', 'A2.1'],\n",
       "       ['root', 'A_B', 'B1_A2', 'A2.2'],\n",
       "       ['root', 'A_B', 'B1_A2', 'B1.2_B1.1'],\n",
       "       ['root', 'A_B', 'B1_A2', 'B1.2_B1.1'],\n",
       "       ['root', 'A_B', 'B2', 'B2.1'],\n",
       "       ['root', 'C', 'C2_C1', 'C1.1_C1.2'],\n",
       "       ['root', 'C', 'C2_C1', 'C1.1_C1.2']], dtype=object)"
      ]
     },
     "execution_count": 5,
     "metadata": {},
     "output_type": "execute_result"
    }
   ],
   "source": [
    "# Convert the tree back to a label matrix\n",
    "print(\"Converting cluster tree back to label matrix...\")\n",
    "reconstructed_labelmat = tree_to_labelmat(cluster_tree)\n",
    "reconstructed_labelmat\n"
   ]
  }
 ],
 "metadata": {
  "kernelspec": {
   "display_name": "Python 3",
   "language": "python",
   "name": "python3"
  },
  "language_info": {
   "codemirror_mode": {
    "name": "ipython",
    "version": 3
   },
   "file_extension": ".py",
   "mimetype": "text/x-python",
   "name": "python",
   "nbconvert_exporter": "python",
   "pygments_lexer": "ipython3",
   "version": "3.11.8"
  }
 },
 "nbformat": 4,
 "nbformat_minor": 2
}
